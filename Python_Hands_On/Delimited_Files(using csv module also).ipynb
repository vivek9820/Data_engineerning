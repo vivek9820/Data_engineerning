{
 "cells": [
  {
   "cell_type": "markdown",
   "id": "85dba050-f461-4cdc-b432-d6bf45f20947",
   "metadata": {},
   "source": [
    "## Read delimted files into list of tuples"
   ]
  },
  {
   "cell_type": "code",
   "execution_count": 4,
   "id": "fb6684b3-d3bc-4075-b4bf-60893d1a4748",
   "metadata": {},
   "outputs": [],
   "source": [
    "file = open('/home/vspatil1330/retail_db/orders/part-00000')"
   ]
  },
  {
   "cell_type": "code",
   "execution_count": 5,
   "id": "b81cda52-b56b-4bf6-9939-df21b6e298b0",
   "metadata": {},
   "outputs": [],
   "source": [
    "order_list=file.read().splitlines()"
   ]
  },
  {
   "cell_type": "code",
   "execution_count": 28,
   "id": "52e18d2e-0271-4fff-a8fb-58fb612cb6d3",
   "metadata": {},
   "outputs": [
    {
     "data": {
      "text/plain": [
       "['1,2013-07-25 00:00:00.0,11599,CLOSED',\n",
       " '2,2013-07-25 00:00:00.0,256,PENDING_PAYMENT',\n",
       " '3,2013-07-25 00:00:00.0,12111,COMPLETE',\n",
       " '4,2013-07-25 00:00:00.0,8827,CLOSED',\n",
       " '5,2013-07-25 00:00:00.0,11318,COMPLETE']"
      ]
     },
     "execution_count": 28,
     "metadata": {},
     "output_type": "execute_result"
    }
   ],
   "source": [
    "order_list[:5]"
   ]
  },
  {
   "cell_type": "code",
   "execution_count": 8,
   "id": "3b74cb61-2eb1-4c7a-add6-148ed21d3d03",
   "metadata": {},
   "outputs": [
    {
     "data": {
      "text/plain": [
       "68883"
      ]
     },
     "execution_count": 8,
     "metadata": {},
     "output_type": "execute_result"
    }
   ],
   "source": [
    "len(order_list)"
   ]
  },
  {
   "cell_type": "markdown",
   "id": "fc5bd566-58f1-4a67-8e4e-8b82f21c91b1",
   "metadata": {},
   "source": [
    "#### using for loop"
   ]
  },
  {
   "cell_type": "code",
   "execution_count": 9,
   "id": "7f437fa1-fbda-4210-a3de-09778e404a36",
   "metadata": {},
   "outputs": [],
   "source": [
    "order_for=[]"
   ]
  },
  {
   "cell_type": "code",
   "execution_count": 10,
   "id": "9ee72923-5672-435b-8da5-f13772741fd4",
   "metadata": {},
   "outputs": [],
   "source": [
    "for i in order_list:\n",
    "    order_details = i.split(',')\n",
    "    order_for.append((int(order_details[0]),order_details[1],int(order_details[2]),order_details[3]))"
   ]
  },
  {
   "cell_type": "code",
   "execution_count": 11,
   "id": "aca277f3-5e65-4f21-b228-530f3aee9219",
   "metadata": {},
   "outputs": [
    {
     "data": {
      "text/plain": [
       "[(1, '2013-07-25 00:00:00.0', 11599, 'CLOSED'),\n",
       " (2, '2013-07-25 00:00:00.0', 256, 'PENDING_PAYMENT'),\n",
       " (3, '2013-07-25 00:00:00.0', 12111, 'COMPLETE'),\n",
       " (4, '2013-07-25 00:00:00.0', 8827, 'CLOSED'),\n",
       " (5, '2013-07-25 00:00:00.0', 11318, 'COMPLETE'),\n",
       " (6, '2013-07-25 00:00:00.0', 7130, 'COMPLETE'),\n",
       " (7, '2013-07-25 00:00:00.0', 4530, 'COMPLETE'),\n",
       " (8, '2013-07-25 00:00:00.0', 2911, 'PROCESSING'),\n",
       " (9, '2013-07-25 00:00:00.0', 5657, 'PENDING_PAYMENT'),\n",
       " (10, '2013-07-25 00:00:00.0', 5648, 'PENDING_PAYMENT')]"
      ]
     },
     "execution_count": 11,
     "metadata": {},
     "output_type": "execute_result"
    }
   ],
   "source": [
    "order_for[:10]"
   ]
  },
  {
   "cell_type": "code",
   "execution_count": 12,
   "id": "134bf62c-a2a8-4855-a7b1-b6dbe4cd4346",
   "metadata": {},
   "outputs": [
    {
     "data": {
      "text/plain": [
       "68883"
      ]
     },
     "execution_count": 12,
     "metadata": {},
     "output_type": "execute_result"
    }
   ],
   "source": [
    "len(order_for)"
   ]
  },
  {
   "cell_type": "markdown",
   "id": "6f47363c-d61a-4c7b-a5c5-7da7f508e9ad",
   "metadata": {},
   "source": [
    "#### using list comprehension"
   ]
  },
  {
   "cell_type": "code",
   "execution_count": 25,
   "id": "a3543791-e888-40a7-91b2-1266846165e0",
   "metadata": {},
   "outputs": [],
   "source": [
    "order_listC=[\n",
    "    (int(order_details.split(',')[0]),order_details.split(',')[1],\n",
    "     int(order_details.split(',')[2]),order_details.split(',')[3])\n",
    "    for order_details in order_list\n",
    "] "
   ]
  },
  {
   "cell_type": "code",
   "execution_count": 26,
   "id": "43826aae-ffef-435f-b722-3e9fd7316e12",
   "metadata": {},
   "outputs": [
    {
     "data": {
      "text/plain": [
       "[(1, '2013-07-25 00:00:00.0', 11599, 'CLOSED'),\n",
       " (2, '2013-07-25 00:00:00.0', 256, 'PENDING_PAYMENT'),\n",
       " (3, '2013-07-25 00:00:00.0', 12111, 'COMPLETE'),\n",
       " (4, '2013-07-25 00:00:00.0', 8827, 'CLOSED'),\n",
       " (5, '2013-07-25 00:00:00.0', 11318, 'COMPLETE')]"
      ]
     },
     "execution_count": 26,
     "metadata": {},
     "output_type": "execute_result"
    }
   ],
   "source": [
    "order_listC[:5]"
   ]
  },
  {
   "cell_type": "markdown",
   "id": "90cb9383-a7c2-4618-9c94-23f30220c93e",
   "metadata": {},
   "source": [
    "## Write delimted strings into files"
   ]
  },
  {
   "cell_type": "code",
   "execution_count": 29,
   "id": "62b02742-59fd-412e-8040-147a48616014",
   "metadata": {},
   "outputs": [],
   "source": [
    "orders = [\n",
    " (1,'2013-07-25 00:00:00.0',11599,'CLOSED'),\n",
    " (2,'2013-07-25 00:00:00.0',256,'PENDING_PAYMENT'),\n",
    " (3,'2013-07-25 00:00:00.0',12111,'COMPLETE'),\n",
    " (4,'2013-07-25 00:00:00.0',8827,'CLOSED'),\n",
    " (5,'2013-07-25 00:00:00.0',11318,'COMPLETE')\n",
    "         ]"
   ]
  },
  {
   "cell_type": "code",
   "execution_count": 31,
   "id": "850c4535-7daf-4e47-801c-fc0155001b48",
   "metadata": {},
   "outputs": [
    {
     "data": {
      "text/plain": [
       "tuple"
      ]
     },
     "execution_count": 31,
     "metadata": {},
     "output_type": "execute_result"
    }
   ],
   "source": [
    "type(orders[0])"
   ]
  },
  {
   "cell_type": "code",
   "execution_count": 33,
   "id": "7a7fc1fc-862c-45f1-a423-7c9526542ca2",
   "metadata": {},
   "outputs": [
    {
     "ename": "TypeError",
     "evalue": "sequence item 0: expected str instance, tuple found",
     "output_type": "error",
     "traceback": [
      "\u001b[0;31m---------------------------------------------------------------------------\u001b[0m",
      "\u001b[0;31mTypeError\u001b[0m                                 Traceback (most recent call last)",
      "\u001b[0;32m<ipython-input-33-0560c7d69660>\u001b[0m in \u001b[0;36m<module>\u001b[0;34m\u001b[0m\n\u001b[1;32m      1\u001b[0m \u001b[0;31m## convert tuples to delimtted string\u001b[0m\u001b[0;34m\u001b[0m\u001b[0;34m\u001b[0m\u001b[0;34m\u001b[0m\u001b[0m\n\u001b[0;32m----> 2\u001b[0;31m \u001b[0;34m','\u001b[0m\u001b[0;34m.\u001b[0m\u001b[0mjoin\u001b[0m\u001b[0;34m(\u001b[0m\u001b[0morders\u001b[0m\u001b[0;34m)\u001b[0m\u001b[0;34m\u001b[0m\u001b[0;34m\u001b[0m\u001b[0m\n\u001b[0m",
      "\u001b[0;31mTypeError\u001b[0m: sequence item 0: expected str instance, tuple found"
     ]
    }
   ],
   "source": [
    "## convert tuples to delimtted string\n",
    "','.join(orders)"
   ]
  },
  {
   "cell_type": "code",
   "execution_count": 39,
   "id": "d0465e0f-3fa3-4d1c-83e0-f1809ff74ac0",
   "metadata": {},
   "outputs": [],
   "source": [
    "x=orders[0]"
   ]
  },
  {
   "cell_type": "code",
   "execution_count": 40,
   "id": "b96e0342-e64b-452e-a93b-f5f8e9b6a9c7",
   "metadata": {},
   "outputs": [
    {
     "data": {
      "text/plain": [
       "['1', '2013-07-25 00:00:00.0', '11599', 'CLOSED']"
      ]
     },
     "execution_count": 40,
     "metadata": {},
     "output_type": "execute_result"
    }
   ],
   "source": [
    "[str(i) for i in x]"
   ]
  },
  {
   "cell_type": "code",
   "execution_count": 41,
   "id": "7e0db11f-4c88-433d-ab16-9f9b0c7729e1",
   "metadata": {},
   "outputs": [
    {
     "data": {
      "text/plain": [
       "'1,2013-07-25 00:00:00.0,11599,CLOSED'"
      ]
     },
     "execution_count": 41,
     "metadata": {},
     "output_type": "execute_result"
    }
   ],
   "source": [
    "## join  needs everything to be in str -->\n",
    "','.join([str(i) for i in x])"
   ]
  },
  {
   "cell_type": "code",
   "execution_count": 44,
   "id": "c3f0e0dd-dae7-4f46-881f-41973eca105d",
   "metadata": {},
   "outputs": [
    {
     "data": {
      "text/plain": [
       "'1,2013-07-25 00:00:00.0,11599,CLOSED'"
      ]
     },
     "execution_count": 44,
     "metadata": {},
     "output_type": "execute_result"
    }
   ],
   "source": [
    "','.join(map(lambda i:str(i),x))"
   ]
  },
  {
   "cell_type": "code",
   "execution_count": 50,
   "id": "d2153855-c7ab-439d-8f04-c5f05fc91634",
   "metadata": {},
   "outputs": [],
   "source": [
    "order_csv=map(lambda order:','.join(map(lambda i:str(i),order)),\n",
    "                       orders)"
   ]
  },
  {
   "cell_type": "code",
   "execution_count": 52,
   "id": "a8c4dfbe-72cc-4171-8fb9-34cd648f7a49",
   "metadata": {},
   "outputs": [
    {
     "data": {
      "text/plain": [
       "['1,2013-07-25 00:00:00.0,11599,CLOSED',\n",
       " '2,2013-07-25 00:00:00.0,256,PENDING_PAYMENT',\n",
       " '3,2013-07-25 00:00:00.0,12111,COMPLETE',\n",
       " '4,2013-07-25 00:00:00.0,8827,CLOSED',\n",
       " '5,2013-07-25 00:00:00.0,11318,COMPLETE']"
      ]
     },
     "execution_count": 52,
     "metadata": {},
     "output_type": "execute_result"
    }
   ],
   "source": [
    "list(order_csv)"
   ]
  },
  {
   "cell_type": "code",
   "execution_count": 53,
   "id": "3315a11a-a023-4fb8-b800-d7cc49bc55b8",
   "metadata": {},
   "outputs": [
    {
     "data": {
      "text/plain": [
       "[(1, '2013-07-25 00:00:00.0', 11599, 'CLOSED'),\n",
       " (2, '2013-07-25 00:00:00.0', 256, 'PENDING_PAYMENT'),\n",
       " (3, '2013-07-25 00:00:00.0', 12111, 'COMPLETE'),\n",
       " (4, '2013-07-25 00:00:00.0', 8827, 'CLOSED'),\n",
       " (5, '2013-07-25 00:00:00.0', 11318, 'COMPLETE')]"
      ]
     },
     "execution_count": 53,
     "metadata": {},
     "output_type": "execute_result"
    }
   ],
   "source": [
    "orders"
   ]
  },
  {
   "cell_type": "code",
   "execution_count": 54,
   "id": "a4b4dc80-ddbf-40a2-947a-fcbdc380fdf7",
   "metadata": {},
   "outputs": [
    {
     "name": "stdout",
     "output_type": "stream",
     "text": [
      "/home/vspatil1330/practice\n"
     ]
    }
   ],
   "source": [
    "!pwd"
   ]
  },
  {
   "cell_type": "markdown",
   "id": "bbbd5622-dead-4a2a-ac5a-5fe6f659db77",
   "metadata": {},
   "source": [
    "#### write"
   ]
  },
  {
   "cell_type": "code",
   "execution_count": 61,
   "id": "11d7b35d-1568-4116-8e34-c6e9f65546b9",
   "metadata": {},
   "outputs": [],
   "source": [
    "file=open('/home/vspatil1330/practice/orders_sample.txt','w')"
   ]
  },
  {
   "cell_type": "code",
   "execution_count": 62,
   "id": "4dc175fe-f580-4077-901b-9239c37edba8",
   "metadata": {},
   "outputs": [],
   "source": [
    "order_csv=map(lambda order:','.join(map(lambda i:str(i),order)),\n",
    "                       orders)\n",
    "for i in order_csv:\n",
    "    file.write(f'{i}\\n')\n",
    "               "
   ]
  },
  {
   "cell_type": "code",
   "execution_count": 63,
   "id": "291b34e5-b530-4856-ae3e-a12a3f105601",
   "metadata": {},
   "outputs": [],
   "source": [
    "file.close()"
   ]
  },
  {
   "cell_type": "code",
   "execution_count": 64,
   "id": "2c525f69-59a0-42db-a464-fc0e0e1dfac7",
   "metadata": {},
   "outputs": [
    {
     "name": "stdout",
     "output_type": "stream",
     "text": [
      "1,2013-07-25 00:00:00.0,11599,CLOSED\n",
      "2,2013-07-25 00:00:00.0,256,PENDING_PAYMENT\n",
      "3,2013-07-25 00:00:00.0,12111,COMPLETE\n",
      "4,2013-07-25 00:00:00.0,8827,CLOSED\n",
      "5,2013-07-25 00:00:00.0,11318,COMPLETE\n"
     ]
    }
   ],
   "source": [
    "!cat /home/vspatil1330/practice/orders_sample.txt"
   ]
  },
  {
   "cell_type": "markdown",
   "id": "d6182c8b-a198-4a11-94af-f7c41c89fb79",
   "metadata": {},
   "source": [
    "#### write as big string"
   ]
  },
  {
   "cell_type": "code",
   "execution_count": 65,
   "id": "1013eced-db76-475b-80c6-d83a7e3bf13f",
   "metadata": {},
   "outputs": [],
   "source": [
    "order_csv=map(lambda order:','.join(map(lambda i:str(i),order)),\n",
    "                       orders)\n",
    "big='\\n'.join(order_csv)"
   ]
  },
  {
   "cell_type": "code",
   "execution_count": 70,
   "id": "0b938a65-5832-4a96-9c07-d05d03fe4fdd",
   "metadata": {},
   "outputs": [
    {
     "data": {
      "text/plain": [
       "'1,2013-07-25 00:00:00.0,11599,CLOSED\\n2,2013-07-25 00:00:00.0,256,PENDING_PAYMENT\\n3,2013-07-25 00:00:00.0,12111,COMPLETE\\n4,2013-07-25 00:00:00.0,8827,CLOSED\\n5,2013-07-25 00:00:00.0,11318,COMPLETE'"
      ]
     },
     "execution_count": 70,
     "metadata": {},
     "output_type": "execute_result"
    }
   ],
   "source": [
    "big"
   ]
  },
  {
   "cell_type": "code",
   "execution_count": 67,
   "id": "a0670536-b1b1-4a94-b703-ea5ad66912fb",
   "metadata": {},
   "outputs": [
    {
     "data": {
      "text/plain": [
       "194"
      ]
     },
     "execution_count": 67,
     "metadata": {},
     "output_type": "execute_result"
    }
   ],
   "source": [
    "file=open('/home/vspatil1330/practice/orders_sample.txt','w')\n",
    "file.write(big)"
   ]
  },
  {
   "cell_type": "code",
   "execution_count": 68,
   "id": "7358b242-aba5-4d16-8d52-70d0daa50d35",
   "metadata": {},
   "outputs": [],
   "source": [
    "file.close()"
   ]
  },
  {
   "cell_type": "code",
   "execution_count": 69,
   "id": "0c9192eb-a7b5-44c3-a909-9e01c4b8303f",
   "metadata": {},
   "outputs": [
    {
     "name": "stdout",
     "output_type": "stream",
     "text": [
      "1,2013-07-25 00:00:00.0,11599,CLOSED\n",
      "2,2013-07-25 00:00:00.0,256,PENDING_PAYMENT\n",
      "3,2013-07-25 00:00:00.0,12111,COMPLETE\n",
      "4,2013-07-25 00:00:00.0,8827,CLOSED\n",
      "5,2013-07-25 00:00:00.0,11318,COMPLETE"
     ]
    }
   ],
   "source": [
    "!cat /home/vspatil1330/practice/orders_sample.txt"
   ]
  },
  {
   "cell_type": "markdown",
   "id": "3e6de841-40ae-4304-9ba9-5ceb5085c741",
   "metadata": {},
   "source": [
    "# CSV Module"
   ]
  },
  {
   "cell_type": "code",
   "execution_count": 73,
   "id": "b7837051-4900-401e-ab9e-d62aabbf5a7b",
   "metadata": {},
   "outputs": [],
   "source": [
    "import csv"
   ]
  },
  {
   "cell_type": "code",
   "execution_count": 74,
   "id": "924cf1ea-aabf-4b90-bdb8-b83308d9c9a7",
   "metadata": {},
   "outputs": [],
   "source": [
    "l=[ '1,2013-07-25 00:00:00.0,11599,CLOSED',\n",
    " '2,2013-07-25 00:00:00.0,256,PENDING_PAYMENT']"
   ]
  },
  {
   "cell_type": "code",
   "execution_count": 75,
   "id": "9ff3a219-c799-4caa-bf64-1112ab8a0d03",
   "metadata": {},
   "outputs": [
    {
     "data": {
      "text/plain": [
       "<_csv.reader at 0x7fb5e8852ba8>"
      ]
     },
     "execution_count": 75,
     "metadata": {},
     "output_type": "execute_result"
    }
   ],
   "source": [
    "csv.reader(l)"
   ]
  },
  {
   "cell_type": "code",
   "execution_count": 76,
   "id": "93ba7e80-f6b4-4f51-ae16-1f69491c493c",
   "metadata": {},
   "outputs": [
    {
     "data": {
      "text/plain": [
       "[['1', '2013-07-25 00:00:00.0', '11599', 'CLOSED'],\n",
       " ['2', '2013-07-25 00:00:00.0', '256', 'PENDING_PAYMENT']]"
      ]
     },
     "execution_count": 76,
     "metadata": {},
     "output_type": "execute_result"
    }
   ],
   "source": [
    "list(csv.reader(l))"
   ]
  },
  {
   "cell_type": "code",
   "execution_count": 77,
   "id": "e0eb605a-3ab1-4d50-b899-ff9f5f978bcc",
   "metadata": {},
   "outputs": [
    {
     "data": {
      "text/plain": [
       "[['1', '2013-07-25 00:00:00.0', '11599', 'CLOSED'],\n",
       " ['2', '2013-07-25 00:00:00.0', '256', 'PENDING_PAYMENT']]"
      ]
     },
     "execution_count": 77,
     "metadata": {},
     "output_type": "execute_result"
    }
   ],
   "source": [
    "l=[ '1\\t2013-07-25 00:00:00.0\\t11599\\tCLOSED',\n",
    " '2\\t2013-07-25 00:00:00.0\\t256\\tPENDING_PAYMENT']\n",
    "list(csv.reader(l,delimiter='\\t'))"
   ]
  },
  {
   "cell_type": "code",
   "execution_count": 81,
   "id": "6af50058-7fac-4e18-833a-1160c5718b32",
   "metadata": {},
   "outputs": [],
   "source": [
    "lt=[(1, '2013-07-25 00:00:00.0', 11599, 'CLOSED'),\n",
    " (2, '2013-07-25 00:00:00.0', 256, 'PENDING_PAYMENT')]"
   ]
  },
  {
   "cell_type": "code",
   "execution_count": 78,
   "id": "3ded6e2a-bfb8-432e-847e-d985df1713a3",
   "metadata": {},
   "outputs": [],
   "source": [
    "!rm -f /home/vspatil1330/practice/orders_sample.txt       ## deletes the older file"
   ]
  },
  {
   "cell_type": "code",
   "execution_count": 79,
   "id": "96ef3048-b9a6-493e-b714-866b7b8fdaeb",
   "metadata": {},
   "outputs": [],
   "source": [
    "file=open('/home/vspatil1330/practice/orders_sample.txt','w')"
   ]
  },
  {
   "cell_type": "code",
   "execution_count": 80,
   "id": "0ab0f71b-3507-46e4-b3b5-241c88c82256",
   "metadata": {},
   "outputs": [],
   "source": [
    "csv_writer=csv.writer(file)"
   ]
  },
  {
   "cell_type": "code",
   "execution_count": 82,
   "id": "f1e08877-e9e8-4dfa-88f2-a83a53ada62f",
   "metadata": {},
   "outputs": [],
   "source": [
    "csv_writer.writerows(lt)"
   ]
  },
  {
   "cell_type": "code",
   "execution_count": 83,
   "id": "af11abaf-e013-45c7-bb00-63beb6812b74",
   "metadata": {},
   "outputs": [],
   "source": [
    "file.close()"
   ]
  },
  {
   "cell_type": "code",
   "execution_count": 86,
   "id": "079fad13-4fcf-477e-8853-2d02ad5964f2",
   "metadata": {},
   "outputs": [
    {
     "name": "stdout",
     "output_type": "stream",
     "text": [
      "-rw-rw-r-- 1 vspatil1330 vspatil1330 83 Jan 19 11:15 /home/vspatil1330/practice/orders_sample.txt\n"
     ]
    }
   ],
   "source": [
    "!ls -ltr /home/vspatil1330/practice/orders_sample.txt"
   ]
  },
  {
   "cell_type": "code",
   "execution_count": 87,
   "id": "7d2e64c8-89b6-4170-bed4-5f443a4d98d0",
   "metadata": {},
   "outputs": [
    {
     "name": "stdout",
     "output_type": "stream",
     "text": [
      "1,2013-07-25 00:00:00.0,11599,CLOSED\n",
      "2,2013-07-25 00:00:00.0,256,PENDING_PAYMENT\n"
     ]
    }
   ],
   "source": [
    "!cat orders_sample.txt"
   ]
  },
  {
   "cell_type": "code",
   "execution_count": 88,
   "id": "ac08ad77-8ef7-4c52-90d3-78f282781c33",
   "metadata": {},
   "outputs": [],
   "source": [
    "## | as delimiter\n",
    "file=open('/home/vspatil1330/practice/orders_sample.txt','w')\n",
    "csv_writer=csv.writer(file,delimiter='|')\n",
    "csv_writer.writerows(lt)\n",
    "file.close()"
   ]
  },
  {
   "cell_type": "code",
   "execution_count": 89,
   "id": "033e76cd-79d0-47fc-aad3-304a07e77ead",
   "metadata": {},
   "outputs": [
    {
     "name": "stdout",
     "output_type": "stream",
     "text": [
      "1|2013-07-25 00:00:00.0|11599|CLOSED\n",
      "2|2013-07-25 00:00:00.0|256|PENDING_PAYMENT\n"
     ]
    }
   ],
   "source": [
    "!cat orders_sample.txt"
   ]
  },
  {
   "cell_type": "markdown",
   "id": "349ed9c1-b3a9-4d5f-8126-1a415331fb7c",
   "metadata": {},
   "source": [
    "## Read Delimited files using CSV"
   ]
  },
  {
   "cell_type": "code",
   "execution_count": 147,
   "id": "65a17670-e3d5-4367-aa0a-566ce0517684",
   "metadata": {},
   "outputs": [],
   "source": [
    "order_file=open('/home/vspatil1330/retail_db/orders/part-00000')"
   ]
  },
  {
   "cell_type": "code",
   "execution_count": 148,
   "id": "f948fff1-865e-48c4-8d6c-5e63262c5575",
   "metadata": {},
   "outputs": [],
   "source": [
    "orders_list=order_file.read().splitlines()\n"
   ]
  },
  {
   "cell_type": "code",
   "execution_count": 149,
   "id": "3ab2ae00-b11f-4bf2-841e-4421c3a57efe",
   "metadata": {},
   "outputs": [],
   "source": [
    "orders=csv.reader(orders_list)"
   ]
  },
  {
   "cell_type": "code",
   "execution_count": 150,
   "id": "06077022-bf05-455c-b4a4-d619a1946050",
   "metadata": {},
   "outputs": [
    {
     "data": {
      "text/plain": [
       "[1, '2013-07-25 00:00:00.0', 11599, 'CLOSED']"
      ]
     },
     "execution_count": 150,
     "metadata": {},
     "output_type": "execute_result"
    }
   ],
   "source": [
    "list(map (lambda item: int(item) if item.isdigit() else item, list(orders)[0]))"
   ]
  },
  {
   "cell_type": "code",
   "execution_count": 152,
   "id": "a1376a50-ba4a-477b-9792-960f6a4af76c",
   "metadata": {},
   "outputs": [
    {
     "data": {
      "text/plain": [
       "(1, '2013-07-25 00:00:00.0', 11599, 'CLOSED')"
      ]
     },
     "execution_count": 152,
     "metadata": {},
     "output_type": "execute_result"
    }
   ],
   "source": [
    "orders=csv.reader(orders_list)\n",
    "list\n",
    "(\n",
    "    tuple(\n",
    "           map \n",
    "             (\n",
    "               lambda item: int(item) if item.isdigit() else item, list(orders)[0]\n",
    "               )\n",
    "         )\n",
    ")"
   ]
  },
  {
   "cell_type": "code",
   "execution_count": 159,
   "id": "e927f696-464d-4226-ac9c-c6d0c1d74a6c",
   "metadata": {},
   "outputs": [
    {
     "data": {
      "text/plain": [
       "[(1, '2013-07-25 00:00:00.0', 11599, 'CLOSED'),\n",
       " (2, '2013-07-25 00:00:00.0', 256, 'PENDING_PAYMENT'),\n",
       " (3, '2013-07-25 00:00:00.0', 12111, 'COMPLETE'),\n",
       " (4, '2013-07-25 00:00:00.0', 8827, 'CLOSED'),\n",
       " (5, '2013-07-25 00:00:00.0', 11318, 'COMPLETE')]"
      ]
     },
     "execution_count": 159,
     "metadata": {},
     "output_type": "execute_result"
    }
   ],
   "source": [
    "orders=csv.reader(orders_list)\n",
    "list(\n",
    "    tuple(\n",
    "           map \n",
    "             (\n",
    "               lambda order: tuple(map (lambda item: int(item) if item.isdigit() else item, order))\n",
    "                 , orders\n",
    "               )\n",
    "         )\n",
    ")[:5]"
   ]
  },
  {
   "cell_type": "code",
   "execution_count": 160,
   "id": "dcb31bae-7f5b-4a4d-92e9-0ec5e45fa1a8",
   "metadata": {},
   "outputs": [
    {
     "data": {
      "text/plain": [
       "[(1, '2013-07-25 00:00:00.0', 11599, 'CLOSED'),\n",
       " (2, '2013-07-25 00:00:00.0', 256, 'PENDING_PAYMENT'),\n",
       " (3, '2013-07-25 00:00:00.0', 12111, 'COMPLETE'),\n",
       " (4, '2013-07-25 00:00:00.0', 8827, 'CLOSED'),\n",
       " (5, '2013-07-25 00:00:00.0', 11318, 'COMPLETE')]"
      ]
     },
     "execution_count": 160,
     "metadata": {},
     "output_type": "execute_result"
    }
   ],
   "source": [
    "## overall\n",
    "\n",
    "order_file=open('/home/vspatil1330/retail_db/orders/part-00000')\n",
    "orders_list=order_file.read().splitlines()\n",
    "orders=csv.reader(orders_list)\n",
    "list(\n",
    "    tuple(\n",
    "           map \n",
    "             (\n",
    "               lambda order: tuple(map (lambda item: int(item) if item.isdigit() else item, order))\n",
    "                 , orders\n",
    "               )\n",
    "         )\n",
    ")[:5]"
   ]
  },
  {
   "cell_type": "markdown",
   "id": "aaaf93cb-80ee-448a-bcf2-800a54a2e72c",
   "metadata": {},
   "source": [
    "#### dictreader"
   ]
  },
  {
   "cell_type": "code",
   "execution_count": 164,
   "id": "3839f5ce-2361-4519-ae97-6934c81a7cc4",
   "metadata": {},
   "outputs": [
    {
     "data": {
      "text/plain": [
       "[OrderedDict([('id', '1'), ('name', 'vivek')]),\n",
       " OrderedDict([('id', '2'), ('name', 'messi')])]"
      ]
     },
     "execution_count": 164,
     "metadata": {},
     "output_type": "execute_result"
    }
   ],
   "source": [
    "users=[ '1,vivek',\n",
    "        '2,messi']\n",
    "user_dict=list(csv.DictReader(users,fieldnames=['id','name']))\n",
    "user_dict"
   ]
  },
  {
   "cell_type": "code",
   "execution_count": 165,
   "id": "e89cb093-7f9a-4b8a-b0a5-8de9d669fc2b",
   "metadata": {},
   "outputs": [
    {
     "data": {
      "text/plain": [
       "OrderedDict([('id', '1'), ('name', 'vivek')])"
      ]
     },
     "execution_count": 165,
     "metadata": {},
     "output_type": "execute_result"
    }
   ],
   "source": [
    "user_dict[0]"
   ]
  },
  {
   "cell_type": "code",
   "execution_count": 166,
   "id": "0c70e4cf-47c9-4b02-8b0e-445944333b13",
   "metadata": {},
   "outputs": [
    {
     "data": {
      "text/plain": [
       "'vivek'"
      ]
     },
     "execution_count": 166,
     "metadata": {},
     "output_type": "execute_result"
    }
   ],
   "source": [
    "user_dict[0]['name']"
   ]
  },
  {
   "cell_type": "markdown",
   "id": "974d1060-3f16-40bb-bf02-cf14917ca42e",
   "metadata": {},
   "source": [
    "## Write iterables to files using CSV"
   ]
  },
  {
   "cell_type": "code",
   "execution_count": 175,
   "id": "102cc44d-53a1-4078-b262-d1dab409bb93",
   "metadata": {},
   "outputs": [],
   "source": [
    "orders=[(1, '2013-07-25 00:00:00.0', 11599, 'CLOSED'),\n",
    " (2, '2013-07-25 00:00:00.0', 256, 'PENDING_PAYMENT'),\n",
    " (3, '2013-07-25 00:00:00.0', 12111, 'COMPLETE'),\n",
    " (4, '2013-07-25 00:00:00.0', 8827, 'CLOSED'),\n",
    " (5, '2013-07-25 00:00:00.0', 11318, 'COMPLETE')]\n",
    "orders_csv=map(lambda order:'.'.join(map(lambda item:str(item),order)),orders)"
   ]
  },
  {
   "cell_type": "code",
   "execution_count": 174,
   "id": "bf36de87-3b46-4f15-9674-baa62e2aad51",
   "metadata": {},
   "outputs": [
    {
     "data": {
      "text/plain": [
       "['1.2013-07-25 00:00:00.0.11599.CLOSED',\n",
       " '2.2013-07-25 00:00:00.0.256.PENDING_PAYMENT',\n",
       " '3.2013-07-25 00:00:00.0.12111.COMPLETE',\n",
       " '4.2013-07-25 00:00:00.0.8827.CLOSED',\n",
       " '5.2013-07-25 00:00:00.0.11318.COMPLETE']"
      ]
     },
     "execution_count": 174,
     "metadata": {},
     "output_type": "execute_result"
    }
   ],
   "source": [
    "list(orders_csv)"
   ]
  },
  {
   "cell_type": "code",
   "execution_count": 191,
   "id": "791cb704-5512-4c65-857e-aa37684fa295",
   "metadata": {},
   "outputs": [],
   "source": [
    "!rm -f /home/vspatil1330/practice/orders_sample.txt       ## deletes the older file"
   ]
  },
  {
   "cell_type": "code",
   "execution_count": 193,
   "id": "05fe27e6-4573-429d-8cce-0065a77d0cca",
   "metadata": {},
   "outputs": [],
   "source": [
    "file=open('/home/vspatil1330/practice/orders_sample.txt','w')\n"
   ]
  },
  {
   "cell_type": "code",
   "execution_count": 194,
   "id": "0aa03641-5b7a-4f21-9499-5577ebe6810c",
   "metadata": {},
   "outputs": [],
   "source": [
    "csv_writer=csv.writer(file)"
   ]
  },
  {
   "cell_type": "code",
   "execution_count": 195,
   "id": "4a272e48-c1c0-47a9-ae59-226a98df20e8",
   "metadata": {},
   "outputs": [],
   "source": [
    "csv_writer.writerows(orders)"
   ]
  },
  {
   "cell_type": "code",
   "execution_count": 196,
   "id": "15c68fb6-3fc2-4d77-8dee-123ac9224af0",
   "metadata": {},
   "outputs": [],
   "source": [
    "file.close()"
   ]
  },
  {
   "cell_type": "code",
   "execution_count": 197,
   "id": "bd4ca49c-decb-4928-8781-8da035e380cb",
   "metadata": {},
   "outputs": [
    {
     "name": "stdout",
     "output_type": "stream",
     "text": [
      "1,2013-07-25 00:00:00.0,11599,CLOSED\n",
      "2,2013-07-25 00:00:00.0,256,PENDING_PAYMENT\n",
      "3,2013-07-25 00:00:00.0,12111,COMPLETE\n",
      "4,2013-07-25 00:00:00.0,8827,CLOSED\n",
      "5,2013-07-25 00:00:00.0,11318,COMPLETE\n"
     ]
    }
   ],
   "source": [
    "!cat  /home/vspatil1330/practice/orders_sample.txt"
   ]
  },
  {
   "cell_type": "code",
   "execution_count": null,
   "id": "d11aa32b-7d3e-4f4a-bdf7-0ad491382496",
   "metadata": {},
   "outputs": [],
   "source": [
    "## see dictwriter also\n",
    "## apply schemas also"
   ]
  }
 ],
 "metadata": {
  "kernelspec": {
   "display_name": "Python 3",
   "language": "python",
   "name": "python3"
  },
  "language_info": {
   "codemirror_mode": {
    "name": "ipython",
    "version": 3
   },
   "file_extension": ".py",
   "mimetype": "text/x-python",
   "name": "python",
   "nbconvert_exporter": "python",
   "pygments_lexer": "ipython3",
   "version": "3.6.9"
  }
 },
 "nbformat": 4,
 "nbformat_minor": 5
}
