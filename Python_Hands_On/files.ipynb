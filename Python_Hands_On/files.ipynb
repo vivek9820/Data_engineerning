{
 "cells": [
  {
   "cell_type": "code",
   "execution_count": 197,
   "id": "95f6fba2-2ac7-464e-99dc-d13250b3d75b",
   "metadata": {},
   "outputs": [
    {
     "name": "stdout",
     "output_type": "stream",
     "text": [
      "total 200\n",
      "drwxrwxr-x  7 vspatil1330 vspatil1330   4096 Dec  2 12:12  demojl\n",
      "-rw-rw-r--  1 vspatil1330 vspatil1330 101769 Dec 14 10:31 'Exercises - Basic SQL Queries.ipynb'\n",
      "-rw-rw-r--  1 vspatil1330 vspatil1330  29000 Dec 16 05:37  courses_table_assignment.ipynb\n",
      "drwxrwxr-x  3 vspatil1330 vspatil1330   4096 Dec 16 05:50  sms_db\n",
      "drwxrwxr-x 10 vspatil1330 vspatil1330   4096 Dec 16 06:01  retail_db\n",
      "-rw-rw-r--  1 vspatil1330 vspatil1330  27014 Dec 16 09:47 'Exercises - Partitioning Tables.ipynb'\n",
      "-rw-rw-r--  1 vspatil1330 vspatil1330  21835 Dec 20 12:35  Exercises-Pre-Defined.ipynb\n",
      "drwxrwxr-x  3 vspatil1330 vspatil1330   4096 Jan 19 07:08  practice\n",
      "-rw-rw-r--  1 vspatil1330 vspatil1330      0 Jan 19 07:17  files.ipynb\n"
     ]
    }
   ],
   "source": [
    "!ls -ltr ## current directory"
   ]
  },
  {
   "cell_type": "code",
   "execution_count": 6,
   "id": "ac36448b-0f1c-42f7-8754-37d8ea65b4a7",
   "metadata": {},
   "outputs": [
    {
     "name": "stdout",
     "output_type": "stream",
     "text": [
      "total 20156\n",
      "drwxrwxr-x 2 vspatil1330 vspatil1330     4096 Dec  6 05:27 categories\n",
      "-rw-rw-r-- 1 vspatil1330 vspatil1330      806 Dec  6 05:27 README.md\n",
      "drwxrwxr-x 2 vspatil1330 vspatil1330     4096 Dec  6 05:27 customers\n",
      "-rw-rw-r-- 1 vspatil1330 vspatil1330     1748 Dec  6 05:27 create_db_tables_pg.sql\n",
      "-rw-rw-r-- 1 vspatil1330 vspatil1330 10303297 Dec  6 05:27 create_db.sql\n",
      "drwxrwxr-x 2 vspatil1330 vspatil1330     4096 Dec  6 05:27 departments\n",
      "drwxrwxr-x 2 vspatil1330 vspatil1330     4096 Dec  6 05:27 order_items\n",
      "-rw-rw-r-- 1 vspatil1330 vspatil1330 10297372 Dec  6 05:27 load_db_tables_pg.sql\n",
      "drwxrwxr-x 2 vspatil1330 vspatil1330     4096 Dec  6 05:27 orders\n",
      "drwxrwxr-x 2 vspatil1330 vspatil1330     4096 Dec  6 05:27 products\n"
     ]
    }
   ],
   "source": [
    "!ls -ltr retail_db"
   ]
  },
  {
   "cell_type": "code",
   "execution_count": 7,
   "id": "5b013614-d0bf-4bdd-bce5-33f5dd5a1c20",
   "metadata": {},
   "outputs": [
    {
     "name": "stdout",
     "output_type": "stream",
     "text": [
      "total 2932\n",
      "-rw-rw-r-- 1 vspatil1330 vspatil1330 2999944 Dec  6 05:27 part-00000\n"
     ]
    }
   ],
   "source": [
    "!ls -ltr retail_db/orders"
   ]
  },
  {
   "cell_type": "code",
   "execution_count": 188,
   "id": "2c6d9206-0a3b-44b7-b74c-e836fa65e617",
   "metadata": {},
   "outputs": [
    {
     "name": "stdout",
     "output_type": "stream",
     "text": [
      "total 232\n",
      "drwxrwxr-x  7 vspatil1330 vspatil1330   4096 Dec  2 12:12  demojl\n",
      "-rw-rw-r--  1 vspatil1330 vspatil1330 101769 Dec 14 10:31 'Exercises - Basic SQL Queries.ipynb'\n",
      "-rw-rw-r--  1 vspatil1330 vspatil1330  29000 Dec 16 05:37  courses_table_assignment.ipynb\n",
      "drwxrwxr-x  3 vspatil1330 vspatil1330   4096 Dec 16 05:50  sms_db\n",
      "drwxrwxr-x 10 vspatil1330 vspatil1330   4096 Dec 16 06:01  retail_db\n",
      "-rw-rw-r--  1 vspatil1330 vspatil1330  27014 Dec 16 09:47 'Exercises - Partitioning Tables.ipynb'\n",
      "-rw-rw-r--  1 vspatil1330 vspatil1330  21835 Dec 20 12:35  Exercises-Pre-Defined.ipynb\n",
      "drwxrwxr-x  3 vspatil1330 vspatil1330   4096 Jan 19 07:08  practice\n",
      "-rw-rw-r--  1 vspatil1330 vspatil1330  31918 Jan 19 07:09  files.ipynb\n"
     ]
    }
   ],
   "source": [
    "!ls -ltr ~ ## home directory"
   ]
  },
  {
   "cell_type": "code",
   "execution_count": 12,
   "id": "7a977824-865f-4168-abae-1d04a23b010b",
   "metadata": {},
   "outputs": [
    {
     "name": "stdout",
     "output_type": "stream",
     "text": [
      "retail_db/orders/part-00000: ASCII text\n"
     ]
    }
   ],
   "source": [
    "!file retail_db/orders/part-00000"
   ]
  },
  {
   "cell_type": "code",
   "execution_count": 11,
   "id": "cbdf935b-2a83-4eb1-b43a-b55db61c3869",
   "metadata": {},
   "outputs": [
    {
     "name": "stdout",
     "output_type": "stream",
     "text": [
      "68879,2014-07-09 00:00:00.0,778,COMPLETE\n",
      "68880,2014-07-13 00:00:00.0,1117,COMPLETE\n",
      "68881,2014-07-19 00:00:00.0,2518,PENDING_PAYMENT\n",
      "68882,2014-07-22 00:00:00.0,10000,ON_HOLD\n",
      "68883,2014-07-23 00:00:00.0,5533,COMPLETE\n"
     ]
    }
   ],
   "source": [
    "!tail -5 retail_db/orders/part-00000"
   ]
  },
  {
   "cell_type": "code",
   "execution_count": 4,
   "id": "3ec62aa5-dde4-4728-b2aa-b36404067479",
   "metadata": {},
   "outputs": [
    {
     "name": "stdout",
     "output_type": "stream",
     "text": [
      "68883 retail_db/orders/part-00000\n"
     ]
    }
   ],
   "source": [
    "!wc -l retail_db/orders/part-00000"
   ]
  },
  {
   "cell_type": "markdown",
   "id": "28f30f8a-c6d4-4d9f-847a-7a3d34b21ce4",
   "metadata": {
    "tags": []
   },
   "source": [
    "## read file into str"
   ]
  },
  {
   "cell_type": "code",
   "execution_count": null,
   "id": "b03872c1-2667-4adc-be86-ec3cbd15805c",
   "metadata": {},
   "outputs": [],
   "source": [
    "help(open)"
   ]
  },
  {
   "cell_type": "code",
   "execution_count": 15,
   "id": "0a3b181a-da26-4999-a29c-d5146893dad1",
   "metadata": {},
   "outputs": [],
   "source": [
    "file = open('retail_db/orders/part-00000')"
   ]
  },
  {
   "cell_type": "code",
   "execution_count": 16,
   "id": "75c23f48-bbde-43bb-8fb2-86bc50a2a89a",
   "metadata": {},
   "outputs": [
    {
     "data": {
      "text/plain": [
       "_io.TextIOWrapper"
      ]
     },
     "execution_count": 16,
     "metadata": {},
     "output_type": "execute_result"
    }
   ],
   "source": [
    "type(file)"
   ]
  },
  {
   "cell_type": "code",
   "execution_count": 17,
   "id": "261f42cd-527c-4d07-8510-46a010479b44",
   "metadata": {},
   "outputs": [],
   "source": [
    "data=file.read()"
   ]
  },
  {
   "cell_type": "code",
   "execution_count": 18,
   "id": "6ead68f8-59ea-47bc-8794-c6dd7f800a24",
   "metadata": {},
   "outputs": [
    {
     "data": {
      "text/plain": [
       "str"
      ]
     },
     "execution_count": 18,
     "metadata": {},
     "output_type": "execute_result"
    }
   ],
   "source": [
    "type(data)"
   ]
  },
  {
   "cell_type": "markdown",
   "id": "3999bf3b-9ae1-4fb2-b830-3e9173ae1690",
   "metadata": {},
   "source": [
    "## write string to a file "
   ]
  },
  {
   "cell_type": "code",
   "execution_count": 20,
   "id": "de88061c-8382-44e6-8473-f3237922aa93",
   "metadata": {},
   "outputs": [],
   "source": [
    "!mkdir -p practice"
   ]
  },
  {
   "cell_type": "code",
   "execution_count": 24,
   "id": "a5e0f62c-bb61-4eb7-b43f-18322328c792",
   "metadata": {},
   "outputs": [
    {
     "name": "stdout",
     "output_type": "stream",
     "text": [
      "drwxrwxr-x  2 vspatil1330 vspatil1330   4096 Jan 19 06:09 practice\n"
     ]
    }
   ],
   "source": [
    "!ls -ltr|grep practice"
   ]
  },
  {
   "cell_type": "code",
   "execution_count": 25,
   "id": "3ad50cd0-c870-4ce4-ace5-3970027d98c0",
   "metadata": {},
   "outputs": [
    {
     "name": "stdout",
     "output_type": "stream",
     "text": [
      "total 0\n"
     ]
    }
   ],
   "source": [
    "!ls -ltr practice"
   ]
  },
  {
   "cell_type": "code",
   "execution_count": 30,
   "id": "b9c8b468-3c7c-46a7-80f2-03abb44854dc",
   "metadata": {},
   "outputs": [],
   "source": [
    "## create a file\n",
    "!touch practice/sample.txt"
   ]
  },
  {
   "cell_type": "code",
   "execution_count": 39,
   "id": "8737ec13-34f7-4197-88ae-da72b3e93ae8",
   "metadata": {},
   "outputs": [
    {
     "name": "stdout",
     "output_type": "stream",
     "text": [
      "total 0\n",
      "-rw-rw-r-- 1 vspatil1330 vspatil1330 0 Jan 19 06:16 sample.txt\n"
     ]
    }
   ],
   "source": [
    "!ls -ltr practice"
   ]
  },
  {
   "cell_type": "code",
   "execution_count": 36,
   "id": "530e2773-5fd4-4403-9787-e74e19043b4d",
   "metadata": {},
   "outputs": [],
   "source": [
    "!rm practice/sample.txt\n",
    "## tp delete the file"
   ]
  },
  {
   "cell_type": "markdown",
   "id": "9f93489d-86b2-4c50-b224-a2509510873a",
   "metadata": {},
   "source": [
    "#### overwrite file using w"
   ]
  },
  {
   "cell_type": "code",
   "execution_count": 70,
   "id": "9335d06e-bddc-4f55-ace5-a855c3495a5b",
   "metadata": {},
   "outputs": [],
   "source": [
    "## creates a new file 'sample.txt' if it doesnot exit \n",
    "## if it exits it opens the file and writes\n",
    "\n",
    "## \" 'w' \" overwrites the data in the file. it does not update the new info\n",
    "## close() use this to close the write lock\n",
    "file = open('practice/sample.txt','w')\n"
   ]
  },
  {
   "cell_type": "code",
   "execution_count": 71,
   "id": "d2f4d2a2-34ce-47a7-9f55-8ec0f64df7c9",
   "metadata": {},
   "outputs": [],
   "source": [
    "content = \" Hola!!!!!!!! Amigos \""
   ]
  },
  {
   "cell_type": "code",
   "execution_count": 72,
   "id": "36cb86b0-2311-465c-b585-871b8a14bb44",
   "metadata": {},
   "outputs": [
    {
     "data": {
      "text/plain": [
       "21"
      ]
     },
     "execution_count": 72,
     "metadata": {},
     "output_type": "execute_result"
    }
   ],
   "source": [
    "file.write(content)\n"
   ]
  },
  {
   "cell_type": "code",
   "execution_count": 73,
   "id": "e066e413-dd14-4684-b305-b06e0720badc",
   "metadata": {},
   "outputs": [],
   "source": [
    "file.close()"
   ]
  },
  {
   "cell_type": "code",
   "execution_count": 74,
   "id": "155fe776-db04-408d-88b8-13c9f188f963",
   "metadata": {},
   "outputs": [
    {
     "name": "stdout",
     "output_type": "stream",
     "text": [
      " Hola!!!!!!!! Amigos "
     ]
    }
   ],
   "source": [
    "!cat practice/sample.txt"
   ]
  },
  {
   "cell_type": "markdown",
   "id": "a068d3a4-9375-4458-8193-92dab5451bc9",
   "metadata": {},
   "source": [
    "#### appending into exixting file using a"
   ]
  },
  {
   "cell_type": "code",
   "execution_count": 75,
   "id": "fd8bd423-a99e-42f0-b1bd-a7dc0863c8cf",
   "metadata": {},
   "outputs": [],
   "source": [
    "file = open('practice/sample.txt','a')"
   ]
  },
  {
   "cell_type": "code",
   "execution_count": 76,
   "id": "c767473a-c094-428c-92b8-6b37175e62b3",
   "metadata": {},
   "outputs": [],
   "source": [
    "content = \" Namaskara \""
   ]
  },
  {
   "cell_type": "code",
   "execution_count": 77,
   "id": "45727f57-042d-40a1-88bc-d4a88464f61a",
   "metadata": {},
   "outputs": [
    {
     "data": {
      "text/plain": [
       "11"
      ]
     },
     "execution_count": 77,
     "metadata": {},
     "output_type": "execute_result"
    }
   ],
   "source": [
    "file.write(content)"
   ]
  },
  {
   "cell_type": "code",
   "execution_count": 78,
   "id": "376e83e8-3219-4fda-ad98-ce6e76eb7760",
   "metadata": {},
   "outputs": [],
   "source": [
    "file.close()"
   ]
  },
  {
   "cell_type": "code",
   "execution_count": 79,
   "id": "9f32b047-c510-4e92-8c4e-19e91fdb8101",
   "metadata": {},
   "outputs": [
    {
     "name": "stdout",
     "output_type": "stream",
     "text": [
      " Hola!!!!!!!! Amigos  Namaskara "
     ]
    }
   ],
   "source": [
    "!cat practice/sample.txt"
   ]
  },
  {
   "cell_type": "markdown",
   "id": "8b808955-aa39-40cd-8c7d-37930d6c48db",
   "metadata": {},
   "source": [
    "#### writing using x"
   ]
  },
  {
   "cell_type": "code",
   "execution_count": 82,
   "id": "650921ab-6f9e-4df0-a17f-8f96ff692700",
   "metadata": {},
   "outputs": [],
   "source": [
    "## if file exits it fails\n",
    "file = open('practice/sample2.txt','x')"
   ]
  },
  {
   "cell_type": "code",
   "execution_count": 83,
   "id": "ea5a85b0-c05a-4de7-bc7f-fbabf3f1055d",
   "metadata": {},
   "outputs": [
    {
     "data": {
      "text/plain": [
       "17"
      ]
     },
     "execution_count": 83,
     "metadata": {},
     "output_type": "execute_result"
    }
   ],
   "source": [
    "file.write(\" new file opened \")"
   ]
  },
  {
   "cell_type": "code",
   "execution_count": 84,
   "id": "9f7f9e34-39a2-4f43-8970-e0886124537c",
   "metadata": {},
   "outputs": [],
   "source": [
    "file.close()"
   ]
  },
  {
   "cell_type": "code",
   "execution_count": 85,
   "id": "fff6552b-be73-4da4-9ce2-1fb75493ebb9",
   "metadata": {},
   "outputs": [
    {
     "name": "stdout",
     "output_type": "stream",
     "text": [
      " new file opened "
     ]
    }
   ],
   "source": [
    "!cat practice/sample2.txt"
   ]
  },
  {
   "cell_type": "code",
   "execution_count": 86,
   "id": "0c618d72-24aa-4ac8-b599-69a75ad5681e",
   "metadata": {},
   "outputs": [
    {
     "ename": "FileExistsError",
     "evalue": "[Errno 17] File exists: 'practice/sample2.txt'",
     "output_type": "error",
     "traceback": [
      "\u001b[0;31m---------------------------------------------------------------------------\u001b[0m",
      "\u001b[0;31mFileExistsError\u001b[0m                           Traceback (most recent call last)",
      "\u001b[0;32m<ipython-input-86-bf1d9f0c5f2d>\u001b[0m in \u001b[0;36m<module>\u001b[0;34m\u001b[0m\n\u001b[0;32m----> 1\u001b[0;31m \u001b[0mfile\u001b[0m \u001b[0;34m=\u001b[0m \u001b[0mopen\u001b[0m\u001b[0;34m(\u001b[0m\u001b[0;34m'practice/sample2.txt'\u001b[0m\u001b[0;34m,\u001b[0m\u001b[0;34m'x'\u001b[0m\u001b[0;34m)\u001b[0m\u001b[0;34m\u001b[0m\u001b[0;34m\u001b[0m\u001b[0m\n\u001b[0m",
      "\u001b[0;31mFileExistsError\u001b[0m: [Errno 17] File exists: 'practice/sample2.txt'"
     ]
    }
   ],
   "source": [
    "file = open('practice/sample2.txt','x')"
   ]
  },
  {
   "cell_type": "markdown",
   "id": "5abc1f4f-1e36-4e47-8cfc-c6dbe6dbc0a6",
   "metadata": {},
   "source": [
    "## Delimited Strings ( basics )"
   ]
  },
  {
   "cell_type": "code",
   "execution_count": 87,
   "id": "0a1ddb6c-e49b-44db-bff0-e60b2f4a4557",
   "metadata": {},
   "outputs": [],
   "source": [
    "comma_separated = \"68879,2014-07-09 00:00:00.0,778,COMPLETE\""
   ]
  },
  {
   "cell_type": "code",
   "execution_count": 91,
   "id": "ab00b54c-ed25-4b64-820b-0a3559052714",
   "metadata": {},
   "outputs": [
    {
     "name": "stdout",
     "output_type": "stream",
     "text": [
      "68879,2014-07-09 00:00:00.0,778,COMPLETE\n"
     ]
    },
    {
     "data": {
      "text/plain": [
       "str"
      ]
     },
     "execution_count": 91,
     "metadata": {},
     "output_type": "execute_result"
    }
   ],
   "source": [
    "print(comma_separated)\n",
    "type(comma_separated)"
   ]
  },
  {
   "cell_type": "code",
   "execution_count": 92,
   "id": "dc7c82fc-0996-470f-befd-da5fdd1c9ea6",
   "metadata": {},
   "outputs": [
    {
     "name": "stdout",
     "output_type": "stream",
     "text": [
      "68879|2014-07-09 00:00:00.0|778|COMPLETE\n"
     ]
    },
    {
     "data": {
      "text/plain": [
       "str"
      ]
     },
     "execution_count": 92,
     "metadata": {},
     "output_type": "execute_result"
    }
   ],
   "source": [
    "pipe_separated = \"68879|2014-07-09 00:00:00.0|778|COMPLETE\"\n",
    "print(pipe_separated)\n",
    "type(pipe_separated)"
   ]
  },
  {
   "cell_type": "code",
   "execution_count": 93,
   "id": "c238a774-34f2-48a7-8a38-c33f26ba572a",
   "metadata": {},
   "outputs": [
    {
     "name": "stdout",
     "output_type": "stream",
     "text": [
      "68879\t2014-07-09 00:00:00.0\t778\tCOMPLETE\n"
     ]
    },
    {
     "data": {
      "text/plain": [
       "str"
      ]
     },
     "execution_count": 93,
     "metadata": {},
     "output_type": "execute_result"
    }
   ],
   "source": [
    "tab_separated = \"68879\\t2014-07-09 00:00:00.0\\t778\\tCOMPLETE\"\n",
    "print(tab_separated)\n",
    "type(tab_separated)"
   ]
  },
  {
   "cell_type": "markdown",
   "id": "92f799bb-6ff1-4d0c-8d74-ecd99d7719d1",
   "metadata": {},
   "source": [
    "## Read csv into list of strings"
   ]
  },
  {
   "cell_type": "code",
   "execution_count": 94,
   "id": "63183bc9-1010-48c2-b9c9-030896933030",
   "metadata": {},
   "outputs": [
    {
     "name": "stdout",
     "output_type": "stream",
     "text": [
      "1,2,Football\n",
      "2,2,Soccer\n",
      "3,2,Baseball & Softball\n",
      "4,2,Basketball\n",
      "5,2,Lacrosse\n",
      "6,2,Tennis & Racquet\n",
      "7,2,Hockey\n",
      "8,2,More Sports\n",
      "9,3,Cardio Equipment\n",
      "10,3,Strength Training\n",
      "11,3,Fitness Accessories\n",
      "12,3,Boxing & MMA\n",
      "13,3,Electronics\n",
      "14,3,Yoga & Pilates\n",
      "15,3,Training by Sport\n",
      "16,3,As Seen on  TV!\n",
      "17,4,Cleats\n",
      "18,4,Men's Footwear\n",
      "19,4,Women's Footwear\n",
      "20,4,Kids' Footwear\n",
      "21,4,Featured Shops\n",
      "22,4,Accessories\n",
      "23,5,Men's Apparel\n",
      "24,5,Women's Apparel\n",
      "25,5,Boys' Apparel\n",
      "26,5,Girls' Apparel\n",
      "27,5,Accessories\n",
      "28,5,Top Brands\n",
      "29,5,Shop By Sport\n",
      "30,6,Men's Golf Clubs\n",
      "31,6,Women's Golf Clubs\n",
      "32,6,Golf Apparel\n",
      "33,6,Golf Shoes\n",
      "34,6,Golf Bags & Carts\n",
      "35,6,Golf Gloves\n",
      "36,6,Golf Balls\n",
      "37,6,Electronics\n",
      "38,6,Kids' Golf Clubs\n",
      "39,6,Team Shop\n",
      "40,6,Accessories\n",
      "41,6,Trade-In\n",
      "42,7,Bike & Skate Shop\n",
      "43,7,Camping & Hiking\n",
      "44,7,Hunting & Shooting\n",
      "45,7,Fishing\n",
      "46,7,Indoor/Outdoor Games\n",
      "47,7,Boating\n",
      "48,7,Water Sports\n",
      "49,8,MLB\n",
      "50,8,NFL\n",
      "51,8,NHL\n",
      "52,8,NBA\n",
      "53,8,NCAA\n",
      "54,8,MLS\n",
      "55,8,International Soccer\n",
      "56,8,World Cup Shop\n",
      "57,8,MLB Players\n",
      "58,8,NFL Players\n"
     ]
    }
   ],
   "source": [
    "!cat retail_db/categories/part-00000"
   ]
  },
  {
   "cell_type": "code",
   "execution_count": 102,
   "id": "fa77e151-7222-4a19-866f-9e42dedd855e",
   "metadata": {},
   "outputs": [],
   "source": [
    "file=open('retail_db/categories/part-00000')"
   ]
  },
  {
   "cell_type": "code",
   "execution_count": 103,
   "id": "3a58a96a-42a5-4a56-b132-478be97c90f2",
   "metadata": {},
   "outputs": [],
   "source": [
    "data=file.read()"
   ]
  },
  {
   "cell_type": "code",
   "execution_count": 104,
   "id": "242aeb1b-cacb-4123-941c-0aac8587884c",
   "metadata": {},
   "outputs": [
    {
     "data": {
      "text/plain": [
       "\"1,2,Football\\n2,2,Soccer\\n3,2,Baseball & Softball\\n4,2,Basketball\\n5,2,Lacrosse\\n6,2,Tennis & Racquet\\n7,2,Hockey\\n8,2,More Sports\\n9,3,Cardio Equipment\\n10,3,Strength Training\\n11,3,Fitness Accessories\\n12,3,Boxing & MMA\\n13,3,Electronics\\n14,3,Yoga & Pilates\\n15,3,Training by Sport\\n16,3,As Seen on  TV!\\n17,4,Cleats\\n18,4,Men's Footwear\\n19,4,Women's Footwear\\n20,4,Kids' Footwear\\n21,4,Featured Shops\\n22,4,Accessories\\n23,5,Men's Apparel\\n24,5,Women's Apparel\\n25,5,Boys' Apparel\\n26,5,Girls' Apparel\\n27,5,Accessories\\n28,5,Top Brands\\n29,5,Shop By Sport\\n30,6,Men's Golf Clubs\\n31,6,Women's Golf Clubs\\n32,6,Golf Apparel\\n33,6,Golf Shoes\\n34,6,Golf Bags & Carts\\n35,6,Golf Gloves\\n36,6,Golf Balls\\n37,6,Electronics\\n38,6,Kids' Golf Clubs\\n39,6,Team Shop\\n40,6,Accessories\\n41,6,Trade-In\\n42,7,Bike & Skate Shop\\n43,7,Camping & Hiking\\n44,7,Hunting & Shooting\\n45,7,Fishing\\n46,7,Indoor/Outdoor Games\\n47,7,Boating\\n48,7,Water Sports\\n49,8,MLB\\n50,8,NFL\\n51,8,NHL\\n52,8,NBA\\n53,8,NCAA\\n54,8,MLS\\n55,8,International Soccer\\n56,8,World Cup Shop\\n57,8,MLB Players\\n58,8,NFL Players\\n\""
      ]
     },
     "execution_count": 104,
     "metadata": {},
     "output_type": "execute_result"
    }
   ],
   "source": [
    "data"
   ]
  },
  {
   "cell_type": "code",
   "execution_count": 122,
   "id": "804ea50a-4960-4de6-9f95-6c1dd4f20c05",
   "metadata": {},
   "outputs": [
    {
     "data": {
      "text/plain": [
       "list"
      ]
     },
     "execution_count": 122,
     "metadata": {},
     "output_type": "execute_result"
    }
   ],
   "source": [
    "cate=data.split('\\n')  ## or data,splitlines()\n",
    "type(cate)"
   ]
  },
  {
   "cell_type": "code",
   "execution_count": 123,
   "id": "2226e58d-81fd-4bfd-aca0-5a6070311d26",
   "metadata": {},
   "outputs": [
    {
     "data": {
      "text/plain": [
       "['1,2,Football',\n",
       " '2,2,Soccer',\n",
       " '3,2,Baseball & Softball',\n",
       " '4,2,Basketball',\n",
       " '5,2,Lacrosse',\n",
       " '6,2,Tennis & Racquet',\n",
       " '7,2,Hockey',\n",
       " '8,2,More Sports',\n",
       " '9,3,Cardio Equipment',\n",
       " '10,3,Strength Training',\n",
       " '11,3,Fitness Accessories',\n",
       " '12,3,Boxing & MMA',\n",
       " '13,3,Electronics',\n",
       " '14,3,Yoga & Pilates',\n",
       " '15,3,Training by Sport',\n",
       " '16,3,As Seen on  TV!',\n",
       " '17,4,Cleats',\n",
       " \"18,4,Men's Footwear\",\n",
       " \"19,4,Women's Footwear\",\n",
       " \"20,4,Kids' Footwear\",\n",
       " '21,4,Featured Shops',\n",
       " '22,4,Accessories',\n",
       " \"23,5,Men's Apparel\",\n",
       " \"24,5,Women's Apparel\",\n",
       " \"25,5,Boys' Apparel\",\n",
       " \"26,5,Girls' Apparel\",\n",
       " '27,5,Accessories',\n",
       " '28,5,Top Brands',\n",
       " '29,5,Shop By Sport',\n",
       " \"30,6,Men's Golf Clubs\",\n",
       " \"31,6,Women's Golf Clubs\",\n",
       " '32,6,Golf Apparel',\n",
       " '33,6,Golf Shoes',\n",
       " '34,6,Golf Bags & Carts',\n",
       " '35,6,Golf Gloves',\n",
       " '36,6,Golf Balls',\n",
       " '37,6,Electronics',\n",
       " \"38,6,Kids' Golf Clubs\",\n",
       " '39,6,Team Shop',\n",
       " '40,6,Accessories',\n",
       " '41,6,Trade-In',\n",
       " '42,7,Bike & Skate Shop',\n",
       " '43,7,Camping & Hiking',\n",
       " '44,7,Hunting & Shooting',\n",
       " '45,7,Fishing',\n",
       " '46,7,Indoor/Outdoor Games',\n",
       " '47,7,Boating',\n",
       " '48,7,Water Sports',\n",
       " '49,8,MLB',\n",
       " '50,8,NFL',\n",
       " '51,8,NHL',\n",
       " '52,8,NBA',\n",
       " '53,8,NCAA',\n",
       " '54,8,MLS',\n",
       " '55,8,International Soccer',\n",
       " '56,8,World Cup Shop',\n",
       " '57,8,MLB Players',\n",
       " '58,8,NFL Players',\n",
       " '']"
      ]
     },
     "execution_count": 123,
     "metadata": {},
     "output_type": "execute_result"
    }
   ],
   "source": [
    "cate\n",
    "##  split() returns where last record will be empty element"
   ]
  },
  {
   "cell_type": "code",
   "execution_count": 124,
   "id": "b7a9a9b3-68e8-4c41-8601-407fda28bd25",
   "metadata": {},
   "outputs": [
    {
     "name": "stdout",
     "output_type": "stream",
     "text": [
      "58 retail_db/categories/part-00000\n"
     ]
    }
   ],
   "source": [
    "!wc -l retail_db/categories/part-00000"
   ]
  },
  {
   "cell_type": "code",
   "execution_count": 125,
   "id": "dee62056-ce7b-4cdb-8509-8a62539a23ca",
   "metadata": {},
   "outputs": [
    {
     "data": {
      "text/plain": [
       "59"
      ]
     },
     "execution_count": 125,
     "metadata": {},
     "output_type": "execute_result"
    }
   ],
   "source": [
    "len(cate)"
   ]
  },
  {
   "cell_type": "code",
   "execution_count": 126,
   "id": "e4e0fdbc-5eec-44ce-8061-b80e7c48f66f",
   "metadata": {},
   "outputs": [
    {
     "data": {
      "text/plain": [
       "['1,2,Football',\n",
       " '2,2,Soccer',\n",
       " '3,2,Baseball & Softball',\n",
       " '4,2,Basketball',\n",
       " '5,2,Lacrosse',\n",
       " '6,2,Tennis & Racquet',\n",
       " '7,2,Hockey',\n",
       " '8,2,More Sports',\n",
       " '9,3,Cardio Equipment',\n",
       " '10,3,Strength Training',\n",
       " '11,3,Fitness Accessories',\n",
       " '12,3,Boxing & MMA',\n",
       " '13,3,Electronics',\n",
       " '14,3,Yoga & Pilates',\n",
       " '15,3,Training by Sport',\n",
       " '16,3,As Seen on  TV!',\n",
       " '17,4,Cleats',\n",
       " \"18,4,Men's Footwear\",\n",
       " \"19,4,Women's Footwear\",\n",
       " \"20,4,Kids' Footwear\",\n",
       " '21,4,Featured Shops',\n",
       " '22,4,Accessories',\n",
       " \"23,5,Men's Apparel\",\n",
       " \"24,5,Women's Apparel\",\n",
       " \"25,5,Boys' Apparel\",\n",
       " \"26,5,Girls' Apparel\",\n",
       " '27,5,Accessories',\n",
       " '28,5,Top Brands',\n",
       " '29,5,Shop By Sport',\n",
       " \"30,6,Men's Golf Clubs\",\n",
       " \"31,6,Women's Golf Clubs\",\n",
       " '32,6,Golf Apparel',\n",
       " '33,6,Golf Shoes',\n",
       " '34,6,Golf Bags & Carts',\n",
       " '35,6,Golf Gloves',\n",
       " '36,6,Golf Balls',\n",
       " '37,6,Electronics',\n",
       " \"38,6,Kids' Golf Clubs\",\n",
       " '39,6,Team Shop',\n",
       " '40,6,Accessories',\n",
       " '41,6,Trade-In',\n",
       " '42,7,Bike & Skate Shop',\n",
       " '43,7,Camping & Hiking',\n",
       " '44,7,Hunting & Shooting',\n",
       " '45,7,Fishing',\n",
       " '46,7,Indoor/Outdoor Games',\n",
       " '47,7,Boating',\n",
       " '48,7,Water Sports',\n",
       " '49,8,MLB',\n",
       " '50,8,NFL',\n",
       " '51,8,NHL',\n",
       " '52,8,NBA',\n",
       " '53,8,NCAA',\n",
       " '54,8,MLS',\n",
       " '55,8,International Soccer',\n",
       " '56,8,World Cup Shop',\n",
       " '57,8,MLB Players',\n",
       " '58,8,NFL Players']"
      ]
     },
     "execution_count": 126,
     "metadata": {},
     "output_type": "execute_result"
    }
   ],
   "source": [
    "cat=data.splitlines()\n",
    "cat"
   ]
  },
  {
   "cell_type": "code",
   "execution_count": 129,
   "id": "b8f70b2a-2930-4c05-8e21-d3313b5f952c",
   "metadata": {},
   "outputs": [
    {
     "data": {
      "text/plain": [
       "58"
      ]
     },
     "execution_count": 129,
     "metadata": {},
     "output_type": "execute_result"
    }
   ],
   "source": [
    "len(cat)"
   ]
  },
  {
   "cell_type": "code",
   "execution_count": 130,
   "id": "008bf392-dcf1-4807-8dff-31ae5bb6fa9e",
   "metadata": {},
   "outputs": [
    {
     "name": "stdout",
     "output_type": "stream",
     "text": [
      "58 retail_db/categories/part-00000\n"
     ]
    }
   ],
   "source": [
    "!wc -l retail_db/categories/part-00000"
   ]
  },
  {
   "cell_type": "markdown",
   "id": "5c6c34e6-ab9e-4c0f-bcb7-bed4b372873f",
   "metadata": {},
   "source": [
    "## append n num of strings to a file"
   ]
  },
  {
   "cell_type": "code",
   "execution_count": 154,
   "id": "878f6ec2-b8da-48e2-9102-32d15ad315e5",
   "metadata": {},
   "outputs": [],
   "source": [
    "name=[\n",
    "    '1,vivek',\n",
    "    '2,yatish',\n",
    "    '3,sathwik',\n",
    "    '4,sanjay'\n",
    "     ]"
   ]
  },
  {
   "cell_type": "code",
   "execution_count": 171,
   "id": "56e56108-565d-4fb0-802f-8adf7f527cdf",
   "metadata": {},
   "outputs": [],
   "source": [
    "file=open('practice/name.txt','w')"
   ]
  },
  {
   "cell_type": "code",
   "execution_count": 172,
   "id": "1d6a3968-44bc-4a92-bb2e-61ff96f30f62",
   "metadata": {},
   "outputs": [
    {
     "ename": "TypeError",
     "evalue": "write() argument must be str, not list",
     "output_type": "error",
     "traceback": [
      "\u001b[0;31m---------------------------------------------------------------------------\u001b[0m",
      "\u001b[0;31mTypeError\u001b[0m                                 Traceback (most recent call last)",
      "\u001b[0;32m<ipython-input-172-f94eda88b516>\u001b[0m in \u001b[0;36m<module>\u001b[0;34m\u001b[0m\n\u001b[0;32m----> 1\u001b[0;31m \u001b[0mfile\u001b[0m\u001b[0;34m.\u001b[0m\u001b[0mwrite\u001b[0m\u001b[0;34m(\u001b[0m\u001b[0mname\u001b[0m\u001b[0;34m)\u001b[0m\u001b[0;34m\u001b[0m\u001b[0;34m\u001b[0m\u001b[0m\n\u001b[0m",
      "\u001b[0;31mTypeError\u001b[0m: write() argument must be str, not list"
     ]
    }
   ],
   "source": [
    "file.write(name)"
   ]
  },
  {
   "cell_type": "code",
   "execution_count": 173,
   "id": "ca17a32b-e373-44cb-8b5c-57dfa9862d05",
   "metadata": {},
   "outputs": [],
   "source": [
    "file.close()"
   ]
  },
  {
   "cell_type": "code",
   "execution_count": 174,
   "id": "895cac35-cd1e-4380-a64f-f7e0e206df01",
   "metadata": {},
   "outputs": [],
   "source": [
    "file=open('practice/name.txt','a')\n",
    "for i in name:\n",
    "    file.write(i)"
   ]
  },
  {
   "cell_type": "code",
   "execution_count": 175,
   "id": "76162de2-dd21-4fc1-b4a0-cdf4a50a1be2",
   "metadata": {},
   "outputs": [],
   "source": [
    "file.close()"
   ]
  },
  {
   "cell_type": "code",
   "execution_count": 176,
   "id": "573e3134-028d-4332-a9fd-1ca6fa4c3d4d",
   "metadata": {},
   "outputs": [
    {
     "name": "stdout",
     "output_type": "stream",
     "text": [
      "1,vivek2,yatish3,sathwik4,sanjay"
     ]
    }
   ],
   "source": [
    "!cat practice/name.txt  ## no new lines"
   ]
  },
  {
   "cell_type": "code",
   "execution_count": 177,
   "id": "0dbceb82-e850-47df-82e0-697c7e4507fe",
   "metadata": {},
   "outputs": [],
   "source": [
    "!rm practice/name.txt ## delets the file"
   ]
  },
  {
   "cell_type": "code",
   "execution_count": 178,
   "id": "611782a3-0997-4ac3-8a31-6a774703552b",
   "metadata": {},
   "outputs": [],
   "source": [
    "file=open('practice/name.txt','a')\n",
    "for i in name:\n",
    "    file.write(f'{i}\\n')"
   ]
  },
  {
   "cell_type": "code",
   "execution_count": 179,
   "id": "225348d5-59e0-4069-8334-1c5bd549c3be",
   "metadata": {},
   "outputs": [],
   "source": [
    "file.close()"
   ]
  },
  {
   "cell_type": "code",
   "execution_count": 180,
   "id": "4c4c7663-2b06-4047-a076-3843ec00ff54",
   "metadata": {},
   "outputs": [
    {
     "name": "stdout",
     "output_type": "stream",
     "text": [
      "1,vivek\n",
      "2,yatish\n",
      "3,sathwik\n",
      "4,sanjay\n"
     ]
    }
   ],
   "source": [
    "!cat practice/name.txt  ##  new lines present"
   ]
  },
  {
   "cell_type": "code",
   "execution_count": 181,
   "id": "8fc4b825-1d9c-4de3-969d-990dd38e0524",
   "metadata": {},
   "outputs": [
    {
     "name": "stdout",
     "output_type": "stream",
     "text": [
      "-rw-rw-r-- 1 vspatil1330 vspatil1330 36 Jan 19 07:08 practice/name.txt\n"
     ]
    }
   ],
   "source": [
    "!ls -ltr  practice/name.txt "
   ]
  },
  {
   "cell_type": "code",
   "execution_count": 182,
   "id": "7a55a92d-392e-4c09-92bc-a1dd705fd160",
   "metadata": {},
   "outputs": [
    {
     "name": "stdout",
     "output_type": "stream",
     "text": [
      "4 practice/name.txt\n"
     ]
    }
   ],
   "source": [
    "!wc -l practice/name.txt "
   ]
  },
  {
   "cell_type": "code",
   "execution_count": 183,
   "id": "bc409d3f-b18d-4e7e-b3d5-dcfc25b1d266",
   "metadata": {},
   "outputs": [
    {
     "data": {
      "text/plain": [
       "'5,darshi\\n6,kulls\\n7,soham\\n8,manish'"
      ]
     },
     "execution_count": 183,
     "metadata": {},
     "output_type": "execute_result"
    }
   ],
   "source": [
    "## add new line character in the string to add directly\n",
    "oth=[\n",
    "    '5,darshi',\n",
    "    '6,kulls',\n",
    "    '7,soham',\n",
    "    '8,manish'\n",
    "]\n",
    "content='\\n'.join(oth)\n",
    "content"
   ]
  },
  {
   "cell_type": "code",
   "execution_count": 184,
   "id": "a4b2dfda-dffc-42fb-9e75-ca998b948de6",
   "metadata": {},
   "outputs": [
    {
     "data": {
      "text/plain": [
       "33"
      ]
     },
     "execution_count": 184,
     "metadata": {},
     "output_type": "execute_result"
    }
   ],
   "source": [
    "file=open('practice/name.txt','a')\n",
    "file.write(content)"
   ]
  },
  {
   "cell_type": "code",
   "execution_count": 185,
   "id": "9cef2308-9e9f-42c4-9449-6b8119e0785e",
   "metadata": {},
   "outputs": [],
   "source": [
    "file.close()"
   ]
  },
  {
   "cell_type": "code",
   "execution_count": 186,
   "id": "100b71a9-1e44-4c99-87a9-73feea3e9b7e",
   "metadata": {},
   "outputs": [
    {
     "name": "stdout",
     "output_type": "stream",
     "text": [
      "1,vivek\n",
      "2,yatish\n",
      "3,sathwik\n",
      "4,sanjay\n",
      "5,darshi\n",
      "6,kulls\n",
      "7,soham\n",
      "8,manish"
     ]
    }
   ],
   "source": [
    "!cat practice/name.txt "
   ]
  },
  {
   "cell_type": "code",
   "execution_count": 189,
   "id": "54c058ef-35a2-4e5f-88bf-7b6c556eea8e",
   "metadata": {},
   "outputs": [],
   "source": [
    "## check subprocess [ video- 274 ]"
   ]
  },
  {
   "cell_type": "code",
   "execution_count": 190,
   "id": "babf9731-94a6-4ead-b373-464d61743739",
   "metadata": {},
   "outputs": [],
   "source": [
    "import subprocess"
   ]
  },
  {
   "cell_type": "code",
   "execution_count": 198,
   "id": "58739a4b-d78f-41a8-bef8-2a6994b9dde4",
   "metadata": {},
   "outputs": [
    {
     "data": {
      "text/plain": [
       "['total 236',\n",
       " 'drwxrwxr-x  7 vspatil1330 vspatil1330   4096 Dec  2 12:12 demojl',\n",
       " '-rw-rw-r--  1 vspatil1330 vspatil1330 101769 Dec 14 10:31 Exercises - Basic SQL Queries.ipynb',\n",
       " '-rw-rw-r--  1 vspatil1330 vspatil1330  29000 Dec 16 05:37 courses_table_assignment.ipynb',\n",
       " 'drwxrwxr-x  3 vspatil1330 vspatil1330   4096 Dec 16 05:50 sms_db',\n",
       " 'drwxrwxr-x 10 vspatil1330 vspatil1330   4096 Dec 16 06:01 retail_db',\n",
       " '-rw-rw-r--  1 vspatil1330 vspatil1330  27014 Dec 16 09:47 Exercises - Partitioning Tables.ipynb',\n",
       " '-rw-rw-r--  1 vspatil1330 vspatil1330  21835 Dec 20 12:35 Exercises-Pre-Defined.ipynb',\n",
       " 'drwxrwxr-x  3 vspatil1330 vspatil1330   4096 Jan 19 07:08 practice',\n",
       " '-rw-rw-r--  1 vspatil1330 vspatil1330  36694 Jan 19 07:17 files.ipynb']"
      ]
     },
     "execution_count": 198,
     "metadata": {},
     "output_type": "execute_result"
    }
   ],
   "source": [
    "subprocess.check_output('ls -ltr',shell=True).decode('utf-8').splitlines() ## current directory"
   ]
  },
  {
   "cell_type": "code",
   "execution_count": 196,
   "id": "880a389c-c014-43a2-bebc-c086f6e7c396",
   "metadata": {},
   "outputs": [
    {
     "data": {
      "text/plain": [
       "['total 236',\n",
       " 'drwxrwxr-x  7 vspatil1330 vspatil1330   4096 Dec  2 12:12 demojl',\n",
       " '-rw-rw-r--  1 vspatil1330 vspatil1330 101769 Dec 14 10:31 Exercises - Basic SQL Queries.ipynb',\n",
       " '-rw-rw-r--  1 vspatil1330 vspatil1330  29000 Dec 16 05:37 courses_table_assignment.ipynb',\n",
       " 'drwxrwxr-x  3 vspatil1330 vspatil1330   4096 Dec 16 05:50 sms_db',\n",
       " 'drwxrwxr-x 10 vspatil1330 vspatil1330   4096 Dec 16 06:01 retail_db',\n",
       " '-rw-rw-r--  1 vspatil1330 vspatil1330  27014 Dec 16 09:47 Exercises - Partitioning Tables.ipynb',\n",
       " '-rw-rw-r--  1 vspatil1330 vspatil1330  21835 Dec 20 12:35 Exercises-Pre-Defined.ipynb',\n",
       " 'drwxrwxr-x  3 vspatil1330 vspatil1330   4096 Jan 19 07:08 practice',\n",
       " '-rw-rw-r--  1 vspatil1330 vspatil1330  35380 Jan 19 07:15 files.ipynb']"
      ]
     },
     "execution_count": 196,
     "metadata": {},
     "output_type": "execute_result"
    }
   ],
   "source": [
    "subprocess.check_output('ls -ltr ~',shell=True).decode('utf-8').splitlines()"
   ]
  },
  {
   "cell_type": "code",
   "execution_count": 199,
   "id": "2662233e-7441-47a4-b14b-4cff4dc1724b",
   "metadata": {},
   "outputs": [
    {
     "name": "stdout",
     "output_type": "stream",
     "text": [
      "/home/vspatil1330\n"
     ]
    }
   ],
   "source": [
    "!pwd"
   ]
  },
  {
   "cell_type": "code",
   "execution_count": 200,
   "id": "615d0b3c-b836-43ad-a714-04ae0025a954",
   "metadata": {},
   "outputs": [
    {
     "data": {
      "text/plain": [
       "['total 12',\n",
       " '-rw-rw-r-- 1 vspatil1330 vspatil1330 32 Jan 19 06:28 sample.txt',\n",
       " '-rw-rw-r-- 1 vspatil1330 vspatil1330 17 Jan 19 06:33 sample2.txt',\n",
       " '-rw-rw-r-- 1 vspatil1330 vspatil1330 69 Jan 19 07:08 name.txt']"
      ]
     },
     "execution_count": 200,
     "metadata": {},
     "output_type": "execute_result"
    }
   ],
   "source": [
    "subprocess.check_output('ls -ltr practice',shell=True).decode('utf-8').splitlines()"
   ]
  },
  {
   "cell_type": "code",
   "execution_count": null,
   "id": "ade7a482-60e8-4868-8d12-6f726c98c77b",
   "metadata": {},
   "outputs": [],
   "source": []
  }
 ],
 "metadata": {
  "kernelspec": {
   "display_name": "Python 3",
   "language": "python",
   "name": "python3"
  },
  "language_info": {
   "codemirror_mode": {
    "name": "ipython",
    "version": 3
   },
   "file_extension": ".py",
   "mimetype": "text/x-python",
   "name": "python",
   "nbconvert_exporter": "python",
   "pygments_lexer": "ipython3",
   "version": "3.6.9"
  }
 },
 "nbformat": 4,
 "nbformat_minor": 5
}
