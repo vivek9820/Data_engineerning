{
 "cells": [
  {
   "cell_type": "markdown",
   "metadata": {},
   "source": [
    "## Exercises - list and set\n",
    "\n",
    "Let us go through some exercises related to list and set."
   ]
  },
  {
   "cell_type": "markdown",
   "metadata": {},
   "source": [
    "## Get second largest integer\n",
    "\n",
    "Develop a code snippet using list and set manipulation functions to get second largest element from the list.\n",
    "* List: `[1, 5, 2, 1, 7, 5, 7, 3]`\n",
    "* Answer: **5**"
   ]
  },
  {
   "cell_type": "code",
   "execution_count": 3,
   "metadata": {},
   "outputs": [
    {
     "data": {
      "text/plain": [
       "5"
      ]
     },
     "execution_count": 3,
     "metadata": {},
     "output_type": "execute_result"
    }
   ],
   "source": [
    "# Your code should go here\n",
    "l=[1, 5, 2, 1, 7, 5, 7, 3]\n",
    "a=set(l)\n",
    "\n",
    "sorted(a,reverse=True)[1]\n"
   ]
  },
  {
   "cell_type": "markdown",
   "metadata": {},
   "source": [
    "## Create a list for integers\n",
    "\n",
    "Develop a function which take a list as argument and return a new list with only integers. You can develop this using loops.\n",
    "* The list might contain data with different data types.\n",
    "* The new list with only integers should be sorted in descending order.\n",
    "* The new list should only contain unique values"
   ]
  },
  {
   "cell_type": "code",
   "execution_count": 16,
   "metadata": {},
   "outputs": [],
   "source": [
    "# You should add the logic here\n",
    "def extract_integers(l):\n",
    "    l_ints = []\n",
    "    for i in l:\n",
    "        if type(i)==int:\n",
    "            l_ints.append(i)\n",
    "            \n",
    "    return sorted(set(l_ints),reverse=True)"
   ]
  },
  {
   "cell_type": "code",
   "execution_count": 17,
   "metadata": {},
   "outputs": [
    {
     "data": {
      "text/plain": [
       "[5, 1]"
      ]
     },
     "execution_count": 17,
     "metadata": {},
     "output_type": "execute_result"
    }
   ],
   "source": [
    "extract_integers([1, 'Hello', None, 5, 0.15, 1, 5]) # Answer: [5, 1]"
   ]
  },
  {
   "cell_type": "markdown",
   "metadata": {},
   "source": [
    "## Get top n salaries\n",
    "\n",
    "Develop a function which take a list of salaries and give us top n salaries. Solve the problem with out using loops.\n",
    "* The function should take 2 arguments - list of salaries and the top n.\n",
    "* Based up on the value passed as part of second argument, you should get those many top salaries.\n",
    "* We should get only unique top n salaries"
   ]
  },
  {
   "cell_type": "code",
   "execution_count": 24,
   "metadata": {},
   "outputs": [],
   "source": [
    "# You should add the logic here\n",
    "def top_n_salaries(salaries, top_n):\n",
    "    salaries_top_n = []\n",
    "    sal_set=set(salaries)\n",
    "    sal_list=sorted(sal_set,reverse=True)\n",
    "    salaries_top_n=sal_list[:top_n]\n",
    "    return salaries_top_n"
   ]
  },
  {
   "cell_type": "code",
   "execution_count": 25,
   "metadata": {},
   "outputs": [],
   "source": [
    "salaries = [\n",
    "    18732.8, 12842.28, 13391.69, 14061.23,\n",
    "    25509.77, 13636.95, 11841.63, 11519.12,\n",
    "    16719.45, 25066.37, 12842.28, 25066.37\n",
    "]"
   ]
  },
  {
   "cell_type": "code",
   "execution_count": 26,
   "metadata": {},
   "outputs": [
    {
     "data": {
      "text/plain": [
       "[25509.77, 25066.37, 18732.8]"
      ]
     },
     "execution_count": 26,
     "metadata": {},
     "output_type": "execute_result"
    }
   ],
   "source": [
    "top_n_salaries(salaries, 3)\n",
    "# Output: [25509.77, 25066.37, 18732.8]"
   ]
  },
  {
   "cell_type": "code",
   "execution_count": 27,
   "metadata": {},
   "outputs": [
    {
     "data": {
      "text/plain": [
       "[25509.77, 25066.37, 18732.8, 16719.45, 14061.23]"
      ]
     },
     "execution_count": 27,
     "metadata": {},
     "output_type": "execute_result"
    }
   ],
   "source": [
    "top_n_salaries(salaries, 5)\n",
    "[25509.77, 25066.37, 18732.8, 16719.45, 14061.23]"
   ]
  },
  {
   "cell_type": "code",
   "execution_count": null,
   "metadata": {},
   "outputs": [],
   "source": []
  },
  {
   "cell_type": "code",
   "execution_count": null,
   "metadata": {},
   "outputs": [],
   "source": []
  },
  {
   "cell_type": "code",
   "execution_count": 34,
   "metadata": {},
   "outputs": [],
   "source": [
    "employees = [\n",
    "    '1,ktrett0@independent.co.uk,6998.95',\n",
    "    '2,khaddock1@deviantart.com,10572.4',\n",
    "    '3,ecraft2@dell.com,3967.35',\n",
    "    '4,drussam3@t-online.de,17672.44',\n",
    "    '5,graigatt4@github.io,11660.67',\n",
    "    '6,bjaxon5@salon.com,18614.93',\n",
    "    '7,araulston6@list-manage.com,11550.75',\n",
    "    '8,mcobb7@mozilla.com,17016.15',\n",
    "    '9,grobardley8@unesco.org,14141.25',\n",
    "    '10,bbuye9@vkontakte.ru,12193.2'\n",
    "]"
   ]
  },
  {
   "cell_type": "code",
   "execution_count": 49,
   "metadata": {},
   "outputs": [
    {
     "data": {
      "text/plain": [
       "['6,bjaxon5@salon.com,18614.93',\n",
       " '4,drussam3@t-online.de,17672.44',\n",
       " '8,mcobb7@mozilla.com,17016.15',\n",
       " '9,grobardley8@unesco.org,14141.25',\n",
       " '10,bbuye9@vkontakte.ru,12193.2',\n",
       " '5,graigatt4@github.io,11660.67',\n",
       " '7,araulston6@list-manage.com,11550.75',\n",
       " '2,khaddock1@deviantart.com,10572.4',\n",
       " '1,ktrett0@independent.co.uk,6998.95',\n",
       " '3,ecraft2@dell.com,3967.35']"
      ]
     },
     "execution_count": 49,
     "metadata": {},
     "output_type": "execute_result"
    }
   ],
   "source": [
    "# You can reverse by using reverse keywork argument\n",
    "# reverse will be applied on custom comparison passed as part of key\n",
    "sorted(employees, key=lambda emp: float(emp.split(',')[-1]), reverse=True)"
   ]
  },
  {
   "cell_type": "code",
   "execution_count": 68,
   "metadata": {},
   "outputs": [
    {
     "data": {
      "text/plain": [
       "['7,araulston6@list-manage.com,11550.75',\n",
       " '10,bbuye9@vkontakte.ru,12193.2',\n",
       " '6,bjaxon5@salon.com,18614.93',\n",
       " '4,drussam3@t-online.de,17672.44',\n",
       " '3,ecraft2@dell.com,3967.35',\n",
       " '5,graigatt4@github.io,11660.67',\n",
       " '9,grobardley8@unesco.org,14141.25',\n",
       " '2,khaddock1@deviantart.com,10572.4',\n",
       " '1,ktrett0@independent.co.uk,6998.95',\n",
       " '8,mcobb7@mozilla.com,17016.15']"
      ]
     },
     "execution_count": 68,
     "metadata": {},
     "output_type": "execute_result"
    }
   ],
   "source": [
    "sorted(sorted(employees, key=lambda emp: float(emp.split(',')[-1]),reverse=True)\n",
    "       , key=lambda emp: emp.split(',')[1])"
   ]
  },
  {
   "cell_type": "code",
   "execution_count": null,
   "metadata": {},
   "outputs": [],
   "source": []
  }
 ],
 "metadata": {
  "kernelspec": {
   "display_name": "Python 3 (ipykernel)",
   "language": "python",
   "name": "python3"
  },
  "language_info": {
   "codemirror_mode": {
    "name": "ipython",
    "version": 3
   },
   "file_extension": ".py",
   "mimetype": "text/x-python",
   "name": "python",
   "nbconvert_exporter": "python",
   "pygments_lexer": "ipython3",
   "version": "3.9.7"
  }
 },
 "nbformat": 4,
 "nbformat_minor": 4
}
