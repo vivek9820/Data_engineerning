{
 "cells": [
  {
   "cell_type": "code",
   "execution_count": 5,
   "id": "821ad5d2-d26e-4b30-bbde-a8195be25f90",
   "metadata": {},
   "outputs": [],
   "source": [
    "import psycopg2\n",
    "\n",
    "def get_connection(host, port, database, user, password):\n",
    "    connection = None\n",
    "    try:\n",
    "        connection = psycopg2.connect(\n",
    "            host=host,\n",
    "            port=port,\n",
    "            database=database,\n",
    "            user=user,\n",
    "            password=password\n",
    "        )\n",
    "    except Exception as e:\n",
    "        raise(e)\n",
    "    \n",
    "    return connection"
   ]
  },
  {
   "cell_type": "code",
   "execution_count": 6,
   "id": "f9cd9364-a65a-4fcf-9a19-dfbbc9f5f61d",
   "metadata": {},
   "outputs": [],
   "source": [
    "host = 'localhost'\n",
    "port = '5432'\n",
    "database = 'sms_db'\n",
    "user = 'sms_user'\n",
    "password = 'sms_password'\n",
    "\n",
    "sms_connection = get_connection(\n",
    "    host=host,\n",
    "    port=port,\n",
    "    database=database,\n",
    "    user=user,\n",
    "    password=password\n",
    ")"
   ]
  },
  {
   "cell_type": "code",
   "execution_count": 7,
   "id": "44edb09a-b56c-4e85-b045-14b6f3206a0d",
   "metadata": {},
   "outputs": [],
   "source": [
    "host = 'localhost'\n",
    "port = '5432'\n",
    "database = 'retail_db'\n",
    "user = 'retail_user'\n",
    "password = 'retail_password'\n",
    "\n",
    "retail_connection = get_connection(\n",
    "    host=host,\n",
    "    port=port,\n",
    "    database=database,\n",
    "    user=user,\n",
    "    password=password\n",
    ")"
   ]
  },
  {
   "cell_type": "code",
   "execution_count": null,
   "id": "d12e1e97-d216-4615-a1f7-2248a26bc7f0",
   "metadata": {},
   "outputs": [],
   "source": []
  }
 ],
 "metadata": {
  "kernelspec": {
   "display_name": "Python 3",
   "language": "python",
   "name": "python3"
  },
  "language_info": {
   "codemirror_mode": {
    "name": "ipython",
    "version": 3
   },
   "file_extension": ".py",
   "mimetype": "text/x-python",
   "name": "python",
   "nbconvert_exporter": "python",
   "pygments_lexer": "ipython3",
   "version": "3.6.9"
  }
 },
 "nbformat": 4,
 "nbformat_minor": 5
}
